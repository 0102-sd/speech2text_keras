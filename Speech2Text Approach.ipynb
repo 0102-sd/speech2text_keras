{
 "cells": [
  {
   "cell_type": "markdown",
   "metadata": {},
   "source": [
    "Dataset from [here](https://www.kaggle.com/c/tensorflow-speech-recognition-challenge)."
   ]
  },
  {
   "cell_type": "code",
   "execution_count": 1,
   "metadata": {},
   "outputs": [],
   "source": [
    "from tensorflow.compat.v1 import ConfigProto\n",
    "from tensorflow.compat.v1 import Session\n",
    "import os\n",
    "import librosa\n",
    "import IPython.display as ipd\n",
    "import matplotlib.pyplot as plt\n",
    "import numpy as np\n",
    "from scipy.io import wavfile\n",
    "import warnings\n",
    "\n",
    "\n",
    "config = ConfigProto()\n",
    "config.gpu_options.allow_growth = True\n",
    "sess = Session(config=config)\n",
    "\n",
    "warnings.filterwarnings(\"ignore\")"
   ]
  },
  {
   "cell_type": "markdown",
   "metadata": {},
   "source": [
    "**Preprocessing the audio waves**"
   ]
  },
  {
   "cell_type": "code",
   "execution_count": 11,
   "metadata": {},
   "outputs": [
    {
     "name": "stdout",
     "output_type": "stream",
     "text": [
      "yes\n",
      "six\n",
      "sheila\n",
      "zero\n",
      "three\n",
      "seven\n",
      "stop\n",
      "tree\n",
      "wow\n",
      "two\n",
      "up\n"
     ]
    }
   ],
   "source": [
    "train_audio_path = './train/audio/'\n",
    "\n",
    "all_wave = []\n",
    "all_label = []\n",
    "for label in labels:\n",
    "    print(label)\n",
    "    waves = [f for f in os.listdir(train_audio_path + '/'+ label) if f.endswith('.wav')]\n",
    "    for wav in waves:\n",
    "        samples, sample_rate = librosa.load(train_audio_path + '/' + label + '/' + wav, sr = 16000)\n",
    "        samples = librosa.resample(samples, sample_rate, 8000)\n",
    "        if(len(samples)== 8000) : \n",
    "            all_wave.append(samples)\n",
    "            all_label.append(label)"
   ]
  },
  {
   "cell_type": "markdown",
   "metadata": {},
   "source": [
    "Convert the output labels to integer encoded:"
   ]
  },
  {
   "cell_type": "code",
   "execution_count": 12,
   "metadata": {},
   "outputs": [],
   "source": [
    "from sklearn.preprocessing import LabelEncoder\n",
    "from keras.utils import np_utils\n",
    "\n",
    "label_enconder = LabelEncoder()\n",
    "y = label_enconder.fit_transform(all_label)\n",
    "classes = list(label_enconder.classes_)\n",
    "y = np_utils.to_categorical(y, num_classes=len(labels))"
   ]
  },
  {
   "cell_type": "markdown",
   "metadata": {},
   "source": [
    "Reshape the 2D array to 3D since the input to the conv1d must be a 3D array:"
   ]
  },
  {
   "cell_type": "code",
   "execution_count": 14,
   "metadata": {},
   "outputs": [],
   "source": [
    "all_wave = np.array(all_wave).reshape(-1,8000,1)"
   ]
  },
  {
   "cell_type": "markdown",
   "metadata": {},
   "source": [
    "**Split into train and validation set**\n",
    "\n",
    "Next, we will train the model on 80% of the data and validate on the remaining 20%:\n"
   ]
  },
  {
   "cell_type": "code",
   "execution_count": 15,
   "metadata": {},
   "outputs": [],
   "source": [
    "from sklearn.model_selection import train_test_split\n",
    "x_train, x_valid, y_train, y_valid = train_test_split(np.array(all_wave),np.array(y),stratify=y,test_size = 0.2,random_state=777,shuffle=True)"
   ]
  },
  {
   "cell_type": "markdown",
   "metadata": {},
   "source": [
    "**Model Architecture**"
   ]
  },
  {
   "cell_type": "code",
   "execution_count": 96,
   "metadata": {},
   "outputs": [],
   "source": [
    "from keras.layers import Bidirectional, BatchNormalization, CuDNNGRU, TimeDistributed"
   ]
  },
  {
   "cell_type": "code",
   "execution_count": 108,
   "metadata": {},
   "outputs": [
    {
     "name": "stdout",
     "output_type": "stream",
     "text": [
      "_________________________________________________________________\n",
      "Layer (type)                 Output Shape              Param #   \n",
      "=================================================================\n",
      "input_1 (InputLayer)         (None, 8000, 1)           0         \n",
      "_________________________________________________________________\n",
      "batch_normalization_1 (Batch (None, 8000, 1)           4         \n",
      "_________________________________________________________________\n",
      "conv1d_1 (Conv1D)            (None, 7988, 8)           112       \n",
      "_________________________________________________________________\n",
      "max_pooling1d_1 (MaxPooling1 (None, 2662, 8)           0         \n",
      "_________________________________________________________________\n",
      "dropout_1 (Dropout)          (None, 2662, 8)           0         \n",
      "_________________________________________________________________\n",
      "conv1d_2 (Conv1D)            (None, 2652, 16)          1424      \n",
      "_________________________________________________________________\n",
      "max_pooling1d_2 (MaxPooling1 (None, 884, 16)           0         \n",
      "_________________________________________________________________\n",
      "dropout_2 (Dropout)          (None, 884, 16)           0         \n",
      "_________________________________________________________________\n",
      "conv1d_3 (Conv1D)            (None, 876, 32)           4640      \n",
      "_________________________________________________________________\n",
      "max_pooling1d_3 (MaxPooling1 (None, 292, 32)           0         \n",
      "_________________________________________________________________\n",
      "dropout_3 (Dropout)          (None, 292, 32)           0         \n",
      "_________________________________________________________________\n",
      "batch_normalization_2 (Batch (None, 292, 32)           128       \n",
      "_________________________________________________________________\n",
      "bidirectional_1 (Bidirection (None, 292, 128)          124416    \n",
      "_________________________________________________________________\n",
      "bidirectional_2 (Bidirection (None, 292, 128)          198144    \n",
      "_________________________________________________________________\n",
      "bidirectional_3 (Bidirection (None, 128)               198144    \n",
      "_________________________________________________________________\n",
      "batch_normalization_3 (Batch (None, 128)               512       \n",
      "_________________________________________________________________\n",
      "dense_1 (Dense)              (None, 256)               33024     \n",
      "_________________________________________________________________\n",
      "dense_2 (Dense)              (None, 11)                2827      \n",
      "=================================================================\n",
      "Total params: 563,375\n",
      "Trainable params: 563,053\n",
      "Non-trainable params: 322\n",
      "_________________________________________________________________\n"
     ]
    }
   ],
   "source": [
    "from keras.layers import Dense, Dropout, Flatten, Conv1D, Input, MaxPooling1D\n",
    "from keras.models import Model\n",
    "from keras.callbacks import EarlyStopping, ModelCheckpoint\n",
    "from keras import backend as K\n",
    "K.clear_session()\n",
    "\n",
    "inputs = Input(shape=(8000,1))\n",
    "x = BatchNormalization(axis=-1, momentum=0.99, epsilon=1e-3, center=True, scale=True)(inputs)\n",
    "\n",
    "#First Conv1D layer\n",
    "x = Conv1D(8,13, padding='valid', activation='relu', strides=1)(x)\n",
    "x = MaxPooling1D(3)(x)\n",
    "x = Dropout(0.3)(x)\n",
    "\n",
    "#Second Conv1D layer\n",
    "x = Conv1D(16, 11, padding='valid', activation='relu', strides=1)(x)\n",
    "x = MaxPooling1D(3)(x)\n",
    "x = Dropout(0.3)(x)\n",
    "\n",
    "#Third Conv1D layer\n",
    "x = Conv1D(32, 9, padding='valid', activation='relu', strides=1)(x)\n",
    "x = MaxPooling1D(3)(x)\n",
    "x = Dropout(0.3)(x)\n",
    "\n",
    "x = BatchNormalization(axis=-1, momentum=0.99, epsilon=1e-3, center=True, scale=True)(x)\n",
    "\n",
    "x = Bidirectional(CuDNNGRU(128, return_sequences=True), merge_mode='sum')(x)\n",
    "x = Bidirectional(CuDNNGRU(128, return_sequences=True), merge_mode='sum')(x)\n",
    "x = Bidirectional(CuDNNGRU(128, return_sequences=False), merge_mode='sum')(x)\n",
    "\n",
    "x = BatchNormalization(axis=-1, momentum=0.99, epsilon=1e-3, center=True, scale=True)(x)\n",
    "\n",
    "#Flatten layer\n",
    "# x = Flatten()(x)\n",
    "\n",
    "#Dense Layer 1\n",
    "x = Dense(256, activation='relu')(x)\n",
    "outputs = Dense(len(labels), activation=\"softmax\")(x)\n",
    "\n",
    "model = Model(inputs, outputs)\n",
    "model.summary()"
   ]
  },
  {
   "cell_type": "markdown",
   "metadata": {},
   "source": [
    "Define the loss function to be categorical cross-entropy since it is a multi-classification problem:"
   ]
  },
  {
   "cell_type": "code",
   "execution_count": 109,
   "metadata": {},
   "outputs": [],
   "source": [
    "model.compile(loss='categorical_crossentropy',optimizer='nadam',metrics=['accuracy'])"
   ]
  },
  {
   "cell_type": "markdown",
   "metadata": {},
   "source": [
    "Early stopping and model checkpoints are the callbacks to stop training the neural network at the right time and to save the best model after every epoch:"
   ]
  },
  {
   "cell_type": "code",
   "execution_count": 110,
   "metadata": {},
   "outputs": [],
   "source": [
    "early_stop = EarlyStopping(monitor='val_loss', mode='min', verbose=1, patience=10, min_delta=0.0001) \n",
    "checkpoint = ModelCheckpoint('speech2text_model.hdf5', monitor='val_acc', verbose=1, save_best_only=True, mode='max')"
   ]
  },
  {
   "cell_type": "markdown",
   "metadata": {},
   "source": [
    "Let us train the model on a batch size of 32 and evaluate the performance on the holdout set:"
   ]
  },
  {
   "cell_type": "code",
   "execution_count": 111,
   "metadata": {},
   "outputs": [
    {
     "name": "stdout",
     "output_type": "stream",
     "text": [
      "Train on 16223 samples, validate on 4056 samples\n",
      "Epoch 1/100\n",
      "16223/16223 [==============================] - 62s 4ms/step - loss: 1.6095 - acc: 0.4248 - val_loss: 1.5216 - val_acc: 0.5286\n",
      "\n",
      "Epoch 00001: val_acc improved from -inf to 0.52860, saving model to best_model.hdf5\n",
      "Epoch 2/100\n",
      "16223/16223 [==============================] - 62s 4ms/step - loss: 0.6507 - acc: 0.7836 - val_loss: 0.5251 - val_acc: 0.8259\n",
      "\n",
      "Epoch 00002: val_acc improved from 0.52860 to 0.82594, saving model to best_model.hdf5\n",
      "Epoch 3/100\n",
      "16223/16223 [==============================] - 62s 4ms/step - loss: 0.4486 - acc: 0.8498 - val_loss: 0.4343 - val_acc: 0.8496\n",
      "\n",
      "Epoch 00003: val_acc improved from 0.82594 to 0.84961, saving model to best_model.hdf5\n",
      "Epoch 4/100\n",
      "16223/16223 [==============================] - 60s 4ms/step - loss: 0.3513 - acc: 0.8799 - val_loss: 0.2815 - val_acc: 0.9056\n",
      "\n",
      "Epoch 00004: val_acc improved from 0.84961 to 0.90557, saving model to best_model.hdf5\n",
      "Epoch 5/100\n",
      "16223/16223 [==============================] - 61s 4ms/step - loss: 0.2928 - acc: 0.9020 - val_loss: 0.2531 - val_acc: 0.9154\n",
      "\n",
      "Epoch 00005: val_acc improved from 0.90557 to 0.91543, saving model to best_model.hdf5\n",
      "Epoch 6/100\n",
      "16223/16223 [==============================] - 62s 4ms/step - loss: 0.2530 - acc: 0.9175 - val_loss: 0.2342 - val_acc: 0.9236\n",
      "\n",
      "Epoch 00006: val_acc improved from 0.91543 to 0.92357, saving model to best_model.hdf5\n",
      "Epoch 7/100\n",
      "16223/16223 [==============================] - 61s 4ms/step - loss: 0.2371 - acc: 0.9216 - val_loss: 0.2456 - val_acc: 0.9189\n",
      "\n",
      "Epoch 00007: val_acc did not improve from 0.92357\n",
      "Epoch 8/100\n",
      "16223/16223 [==============================] - 61s 4ms/step - loss: 0.2174 - acc: 0.9268 - val_loss: 0.2119 - val_acc: 0.9278\n",
      "\n",
      "Epoch 00008: val_acc improved from 0.92357 to 0.92776, saving model to best_model.hdf5\n",
      "Epoch 9/100\n",
      "16223/16223 [==============================] - 64s 4ms/step - loss: 0.2073 - acc: 0.9310 - val_loss: 0.2211 - val_acc: 0.9248\n",
      "\n",
      "Epoch 00009: val_acc did not improve from 0.92776\n",
      "Epoch 10/100\n",
      "16223/16223 [==============================] - 67s 4ms/step - loss: 0.1885 - acc: 0.9356 - val_loss: 0.1997 - val_acc: 0.9337\n",
      "\n",
      "Epoch 00010: val_acc improved from 0.92776 to 0.93368, saving model to best_model.hdf5\n",
      "Epoch 11/100\n",
      "16223/16223 [==============================] - 68s 4ms/step - loss: 0.1725 - acc: 0.9411 - val_loss: 0.2108 - val_acc: 0.9297\n",
      "\n",
      "Epoch 00011: val_acc did not improve from 0.93368\n",
      "Epoch 12/100\n",
      "16223/16223 [==============================] - 63s 4ms/step - loss: 0.1794 - acc: 0.9383 - val_loss: 0.2378 - val_acc: 0.9253\n",
      "\n",
      "Epoch 00012: val_acc did not improve from 0.93368\n",
      "Epoch 13/100\n",
      "16223/16223 [==============================] - 64s 4ms/step - loss: 0.1645 - acc: 0.9432 - val_loss: 0.2107 - val_acc: 0.9312\n",
      "\n",
      "Epoch 00013: val_acc did not improve from 0.93368\n",
      "Epoch 14/100\n",
      "16223/16223 [==============================] - 64s 4ms/step - loss: 0.1626 - acc: 0.9457 - val_loss: 0.2160 - val_acc: 0.9290\n",
      "\n",
      "Epoch 00014: val_acc did not improve from 0.93368\n",
      "Epoch 15/100\n",
      "16223/16223 [==============================] - 63s 4ms/step - loss: 0.1577 - acc: 0.9462 - val_loss: 0.1892 - val_acc: 0.9364\n",
      "\n",
      "Epoch 00015: val_acc improved from 0.93368 to 0.93639, saving model to best_model.hdf5\n",
      "Epoch 16/100\n",
      "16223/16223 [==============================] - 63s 4ms/step - loss: 0.1500 - acc: 0.9490 - val_loss: 0.1983 - val_acc: 0.9334\n",
      "\n",
      "Epoch 00016: val_acc did not improve from 0.93639\n",
      "Epoch 17/100\n",
      "16223/16223 [==============================] - 63s 4ms/step - loss: 0.1547 - acc: 0.9452 - val_loss: 0.1725 - val_acc: 0.9458\n",
      "\n",
      "Epoch 00017: val_acc improved from 0.93639 to 0.94576, saving model to best_model.hdf5\n",
      "Epoch 18/100\n",
      "16223/16223 [==============================] - 63s 4ms/step - loss: 0.1395 - acc: 0.9510 - val_loss: 0.1898 - val_acc: 0.9327\n",
      "\n",
      "Epoch 00018: val_acc did not improve from 0.94576\n",
      "Epoch 19/100\n",
      "16223/16223 [==============================] - 63s 4ms/step - loss: 0.1456 - acc: 0.9498 - val_loss: 0.1939 - val_acc: 0.9376\n",
      "\n",
      "Epoch 00019: val_acc did not improve from 0.94576\n",
      "Epoch 20/100\n",
      "16223/16223 [==============================] - 62s 4ms/step - loss: 0.1302 - acc: 0.9548 - val_loss: 0.1861 - val_acc: 0.9411\n",
      "\n",
      "Epoch 00020: val_acc did not improve from 0.94576\n",
      "Epoch 21/100\n",
      "16223/16223 [==============================] - 62s 4ms/step - loss: 0.1243 - acc: 0.9572 - val_loss: 0.2022 - val_acc: 0.9344\n",
      "\n",
      "Epoch 00021: val_acc did not improve from 0.94576\n",
      "Epoch 22/100\n",
      "16223/16223 [==============================] - 62s 4ms/step - loss: 0.1308 - acc: 0.9550 - val_loss: 0.2195 - val_acc: 0.9334\n",
      "\n",
      "Epoch 00022: val_acc did not improve from 0.94576\n",
      "Epoch 23/100\n",
      "16223/16223 [==============================] - 63s 4ms/step - loss: 0.1205 - acc: 0.9578 - val_loss: 0.2214 - val_acc: 0.9285\n",
      "\n",
      "Epoch 00023: val_acc did not improve from 0.94576\n",
      "Epoch 24/100\n",
      "16223/16223 [==============================] - 60s 4ms/step - loss: 0.1118 - acc: 0.9596 - val_loss: 0.1817 - val_acc: 0.9443\n",
      "\n",
      "Epoch 00024: val_acc did not improve from 0.94576\n",
      "Epoch 25/100\n",
      "16223/16223 [==============================] - 61s 4ms/step - loss: 0.1215 - acc: 0.9578 - val_loss: 0.1841 - val_acc: 0.9398\n",
      "\n",
      "Epoch 00025: val_acc did not improve from 0.94576\n",
      "Epoch 26/100\n",
      "16223/16223 [==============================] - 60s 4ms/step - loss: 0.1067 - acc: 0.9644 - val_loss: 0.1536 - val_acc: 0.9504\n",
      "\n",
      "Epoch 00026: val_acc improved from 0.94576 to 0.95044, saving model to best_model.hdf5\n",
      "Epoch 27/100\n",
      "16223/16223 [==============================] - 61s 4ms/step - loss: 0.1122 - acc: 0.9597 - val_loss: 0.1717 - val_acc: 0.9443\n",
      "\n",
      "Epoch 00027: val_acc did not improve from 0.95044\n",
      "Epoch 28/100\n",
      "16223/16223 [==============================] - 61s 4ms/step - loss: 0.1091 - acc: 0.9619 - val_loss: 0.1755 - val_acc: 0.9477\n",
      "\n",
      "Epoch 00028: val_acc did not improve from 0.95044\n",
      "Epoch 29/100\n",
      "16223/16223 [==============================] - 63s 4ms/step - loss: 0.1014 - acc: 0.9652 - val_loss: 0.1904 - val_acc: 0.9440\n",
      "\n",
      "Epoch 00029: val_acc did not improve from 0.95044\n",
      "Epoch 30/100\n",
      "16223/16223 [==============================] - 62s 4ms/step - loss: 0.1097 - acc: 0.9622 - val_loss: 0.1667 - val_acc: 0.9502\n",
      "\n",
      "Epoch 00030: val_acc did not improve from 0.95044\n",
      "Epoch 31/100\n",
      "16223/16223 [==============================] - 62s 4ms/step - loss: 0.1098 - acc: 0.9618 - val_loss: 0.1907 - val_acc: 0.9391\n",
      "\n",
      "Epoch 00031: val_acc did not improve from 0.95044\n",
      "Epoch 32/100\n",
      "16223/16223 [==============================] - 61s 4ms/step - loss: 0.1018 - acc: 0.9646 - val_loss: 0.1975 - val_acc: 0.9396\n",
      "\n",
      "Epoch 00032: val_acc did not improve from 0.95044\n",
      "Epoch 33/100\n",
      "16223/16223 [==============================] - 61s 4ms/step - loss: 0.1077 - acc: 0.9622 - val_loss: 0.1766 - val_acc: 0.9463\n",
      "\n",
      "Epoch 00033: val_acc did not improve from 0.95044\n",
      "Epoch 34/100\n",
      "16223/16223 [==============================] - 62s 4ms/step - loss: 0.1006 - acc: 0.9649 - val_loss: 0.1560 - val_acc: 0.9492\n",
      "\n",
      "Epoch 00034: val_acc did not improve from 0.95044\n",
      "Epoch 35/100\n",
      "16223/16223 [==============================] - 63s 4ms/step - loss: 0.0997 - acc: 0.9649 - val_loss: 0.1793 - val_acc: 0.9435\n",
      "\n",
      "Epoch 00035: val_acc did not improve from 0.95044\n",
      "Epoch 36/100\n",
      "16223/16223 [==============================] - 63s 4ms/step - loss: 0.1008 - acc: 0.9657 - val_loss: 0.1997 - val_acc: 0.9440\n",
      "\n",
      "Epoch 00036: val_acc did not improve from 0.95044\n",
      "Epoch 00036: early stopping\n"
     ]
    }
   ],
   "source": [
    "hist = model.fit(\n",
    "    x=x_train, \n",
    "    y=y_train,\n",
    "    epochs=100, \n",
    "    callbacks=[early_stop, checkpoint], \n",
    "    batch_size=32, \n",
    "    validation_data=(x_valid,y_valid)\n",
    ")"
   ]
  },
  {
   "cell_type": "markdown",
   "metadata": {},
   "source": [
    "**Diagnostic plot**\n",
    "\n",
    "I’m going to lean on visualization again to understand the performance of the model over a period of time:"
   ]
  },
  {
   "cell_type": "code",
   "execution_count": 112,
   "metadata": {
    "scrolled": true
   },
   "outputs": [
    {
     "data": {
      "image/png": "[encoded data removed]",
      "text/plain": [
       "<Figure size 432x288 with 1 Axes>"
      ]
     },
     "metadata": {
      "needs_background": "light"
     },
     "output_type": "display_data"
    }
   ],
   "source": [
    "from matplotlib import pyplot\n",
    "pyplot.plot(hist.history['loss'], label='train')\n",
    "pyplot.plot(hist.history['val_loss'], label='test')\n",
    "pyplot.legend()\n",
    "pyplot.show()"
   ]
  },
  {
   "cell_type": "markdown",
   "metadata": {},
   "source": [
    "**Loading the best model**"
   ]
  },
  {
   "cell_type": "code",
   "execution_count": 113,
   "metadata": {},
   "outputs": [],
   "source": [
    "from keras.models import load_model\n",
    "model = load_model('speech2text_model.hdf5')"
   ]
  },
  {
   "cell_type": "markdown",
   "metadata": {},
   "source": [
    "Define the function that predicts text for the given audio:"
   ]
  },
  {
   "cell_type": "code",
   "execution_count": 114,
   "metadata": {},
   "outputs": [],
   "source": [
    "def s2t_predict(audio, shape_num=8000):\n",
    "    prob=model.predict(audio.reshape(1,shape_num,1))\n",
    "    index=np.argmax(prob[0])\n",
    "    return classes[index]"
   ]
  },
  {
   "cell_type": "markdown",
   "metadata": {},
   "source": [
    "Prediction time! Make predictions on the validation data:"
   ]
  },
  {
   "cell_type": "code",
   "execution_count": 115,
   "metadata": {},
   "outputs": [
    {
     "name": "stdout",
     "output_type": "stream",
     "text": [
      "Audio: stop\n"
     ]
    },
    {
     "data": {
      "text/html": [
       "\n",
       "                <audio  controls=\"controls\" >\n",
       "                    <source src=\"data:audio/wav;base64,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\" type=\"audio/wav\" />\n",
       "                    Your browser does not support the audio element.\n",
       "                </audio>\n",
       "              "
      ],
      "text/plain": [
       "<IPython.lib.display.Audio object>"
      ]
     },
     "execution_count": 115,
     "metadata": {},
     "output_type": "execute_result"
    }
   ],
   "source": [
    "import random\n",
    "index=random.randint(0,len(x_valid)-1)\n",
    "samples=x_valid[index].ravel()\n",
    "print(\"Audio:\",classes[np.argmax(y_valid[index])])\n",
    "ipd.Audio(samples, rate=8000)"
   ]
  },
  {
   "cell_type": "code",
   "execution_count": 116,
   "metadata": {},
   "outputs": [
    {
     "data": {
      "text/plain": [
       "(8000,)"
      ]
     },
     "execution_count": 116,
     "metadata": {},
     "output_type": "execute_result"
    }
   ],
   "source": [
    "samples.shape"
   ]
  },
  {
   "cell_type": "code",
   "execution_count": 117,
   "metadata": {},
   "outputs": [
    {
     "name": "stdout",
     "output_type": "stream",
     "text": [
      "Text: up\n"
     ]
    }
   ],
   "source": [
    "print(\"Text:\",s2t_predict(samples))"
   ]
  },
  {
   "cell_type": "markdown",
   "metadata": {},
   "source": [
    "The best part is yet to come! Here is a script that prompts a user to record voice commands. Record your own voice commands and test it on the model:"
   ]
  },
  {
   "cell_type": "markdown",
   "metadata": {},
   "source": [
    "Let us now read the saved voice command and convert it to text:"
   ]
  },
  {
   "cell_type": "code",
   "execution_count": null,
   "metadata": {},
   "outputs": [],
   "source": [
    "import sounddevice as sd\n",
    "import soundfile as sf\n",
    "\n",
    "samplerate = 16000  \n",
    "duration = 1 # seconds\n",
    "filename = 'yes.wav'\n",
    "print(\"start\")\n",
    "mydata = sd.rec(int(samplerate * duration), samplerate=samplerate,\n",
    "    channels=1, blocking=True)\n",
    "print(\"end\")\n",
    "sd.wait()\n",
    "sf.write(filename, mydata, samplerate)"
   ]
  },
  {
   "cell_type": "code",
   "execution_count": null,
   "metadata": {},
   "outputs": [],
   "source": [
    "#reading the voice commands\n",
    "test, test_rate = librosa.load('./test/left.wav', sr = 16000)\n",
    "test_sample = librosa.resample(test, test_rate, 4351)\n",
    "print(test_sample.shape)\n",
    "ipd.Audio(test_sample,rate=8000)              "
   ]
  },
  {
   "cell_type": "code",
   "execution_count": null,
   "metadata": {},
   "outputs": [],
   "source": [
    "#converting voice commands to text\n",
    "s2t_predict(test_sample)"
   ]
  },
  {
   "cell_type": "markdown",
   "metadata": {},
   "source": [
    "Congratulations! You have just built your very own speech-to-text model!"
   ]
  }
 ],
 "metadata": {
  "kernelspec": {
   "display_name": "Python 3",
   "language": "python",
   "name": "python3"
  },
  "language_info": {
   "codemirror_mode": {
    "name": "ipython",
    "version": 3
   },
   "file_extension": ".py",
   "mimetype": "text/x-python",
   "name": "python",
   "nbconvert_exporter": "python",
   "pygments_lexer": "ipython3",
   "version": "3.7.5"
  }
 },
 "nbformat": 4,
 "nbformat_minor": 1
}
